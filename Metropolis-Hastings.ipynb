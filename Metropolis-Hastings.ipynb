{
 "cells": [
  {
   "cell_type": "code",
   "execution_count": 1,
   "id": "5044773c",
   "metadata": {},
   "outputs": [],
   "source": [
    "# import all the necessary packages\n",
    "import numpy as np\n",
    "import random\n",
    "import matplotlib.pyplot as plt"
   ]
  },
  {
   "cell_type": "code",
   "execution_count": 2,
   "id": "1a3891a0",
   "metadata": {},
   "outputs": [],
   "source": [
    "# the probability distribution function of normal variable with given mean and variance \n",
    "def normal_distr(x,mean,sigma):\n",
    "    pdf = np.exp((-(x-mean)**2)/(2*sigma**2))/(sigma*np.sqrt(2*np.pi))\n",
    "    return pdf"
   ]
  },
  {
   "cell_type": "code",
   "execution_count": 3,
   "id": "e5f98b03",
   "metadata": {},
   "outputs": [],
   "source": [
    "# acceptance function, which defined the next state in the Markov Chain\n",
    "def accepted_prob(p):\n",
    "    unif = random.uniform(0,1)\n",
    "    if unif>=p:\n",
    "        return False\n",
    "    else:\n",
    "        return True"
   ]
  },
  {
   "cell_type": "code",
   "execution_count": 10,
   "id": "4b2046eb",
   "metadata": {},
   "outputs": [
    {
     "data": {
      "image/png": "[encoded data removed]",
      "text/plain": [
       "<Figure size 640x480 with 1 Axes>"
      ]
     },
     "metadata": {},
     "output_type": "display_data"
    }
   ],
   "source": [
    "# Metropolis-Hastings algorithm to get a normally distributed data \n",
    "# from the Markov chain proposal having uniform disribution\n",
    "def gaussian_approx(repeats, mu, sigma):\n",
    "    states = []\n",
    "    current_state = random.uniform(-3*sigma + mu,3*sigma + mu)\n",
    "    for i in range(repeats):\n",
    "        current = current_state\n",
    "        states.append(current_state)\n",
    "        next_state = random.uniform(-3*sigma+mu,3*sigma+mu)\n",
    "        stay_prob = normal_distr(current_state, mu, sigma)\n",
    "        jump_prob = normal_distr(next_state, mu, sigma)\n",
    "        \n",
    "        acceptance = min(jump_prob/stay_prob, 1)\n",
    "        if accepted_prob(acceptance):\n",
    "            current_state = next_state\n",
    "    return states[int(repeats*0.4):]\n",
    "    \n",
    "dist = gaussian_approx(100000, 0, 1)\n",
    "plt.hist(dist, bins=40) \n",
    "plt.show()"
   ]
  },
  {
   "cell_type": "code",
   "execution_count": null,
   "id": "ff36e5c0",
   "metadata": {},
   "outputs": [],
   "source": []
  }
 ],
 "metadata": {
  "kernelspec": {
   "display_name": "Python 3 (ipykernel)",
   "language": "python",
   "name": "python3"
  },
  "language_info": {
   "codemirror_mode": {
    "name": "ipython",
    "version": 3
   },
   "file_extension": ".py",
   "mimetype": "text/x-python",
   "name": "python",
   "nbconvert_exporter": "python",
   "pygments_lexer": "ipython3",
   "version": "3.9.13"
  }
 },
 "nbformat": 4,
 "nbformat_minor": 5
}
